{
 "cells": [
  {
   "cell_type": "code",
   "execution_count": 1,
   "id": "5fb944d6",
   "metadata": {},
   "outputs": [],
   "source": [
    "import math\n",
    "import numpy as np\n",
    "import matplotlib.pyplot as plt\n",
    "%matplotlib inline"
   ]
  },
  {
   "cell_type": "code",
   "execution_count": 2,
   "id": "f3ccc341",
   "metadata": {},
   "outputs": [],
   "source": [
    "def f(x):\n",
    "    return 3*x**2 - 4*x + 5"
   ]
  },
  {
   "cell_type": "code",
   "execution_count": 3,
   "id": "9aac2362",
   "metadata": {},
   "outputs": [
    {
     "data": {
      "text/plain": [
       "20.0"
      ]
     },
     "execution_count": 3,
     "metadata": {},
     "output_type": "execute_result"
    }
   ],
   "source": [
    "f(3.0)"
   ]
  },
  {
   "cell_type": "code",
   "execution_count": 4,
   "id": "5b35286f",
   "metadata": {},
   "outputs": [
    {
     "data": {
      "text/plain": [
       "[<matplotlib.lines.Line2D at 0x269e3a2fe20>]"
      ]
     },
     "execution_count": 4,
     "metadata": {},
     "output_type": "execute_result"
    },
    {
     "data": {
      "image/png": "[encoded data removed]",
      "text/plain": [
       "<Figure size 432x288 with 1 Axes>"
      ]
     },
     "metadata": {
      "needs_background": "light"
     },
     "output_type": "display_data"
    }
   ],
   "source": [
    "xs= np.arange(-5, 5, 0.25)\n",
    "ys= f(xs)\n",
    "plt.plot(xs, ys)"
   ]
  },
  {
   "cell_type": "code",
   "execution_count": 5,
   "id": "8f755149",
   "metadata": {},
   "outputs": [
    {
     "data": {
      "text/plain": [
       "2.999378523327323e-06"
      ]
     },
     "execution_count": 5,
     "metadata": {},
     "output_type": "execute_result"
    }
   ],
   "source": [
    "h = 0.000001\n",
    "x = 2/3\n",
    "(f(x + h) - f(x)) / h"
   ]
  },
  {
   "cell_type": "code",
   "execution_count": 6,
   "id": "7f96c887",
   "metadata": {},
   "outputs": [
    {
     "name": "stdout",
     "output_type": "stream",
     "text": [
      "4.0\n"
     ]
    }
   ],
   "source": [
    "# lets get more complex\n",
    "a = 2.0\n",
    "b = -3.0\n",
    "c = 10.0\n",
    "d = a*b + c \n",
    "print(d)"
   ]
  },
  {
   "cell_type": "code",
   "execution_count": 7,
   "id": "981988cb",
   "metadata": {},
   "outputs": [
    {
     "name": "stdout",
     "output_type": "stream",
     "text": [
      "d1 4.0\n",
      "d2 4.0001\n",
      "slope 0.9999999999976694\n"
     ]
    }
   ],
   "source": [
    "h = 0.0001\n",
    "\n",
    "#inputs\n",
    "a = 2.0\n",
    "b = -3.0\n",
    "c = 10.0\n",
    "\n",
    "d1 = a*b + c \n",
    "c += h\n",
    "d2 = a*b + c\n",
    "\n",
    "print('d1', d1)\n",
    "print(\"d2\", d2)\n",
    "print(\"slope\", (d2 - d1)/h)"
   ]
  },
  {
   "cell_type": "code",
   "execution_count": 8,
   "id": "43eb531c",
   "metadata": {},
   "outputs": [
    {
     "data": {
      "text/plain": [
       "Value(data = 4.0)"
      ]
     },
     "execution_count": 8,
     "metadata": {},
     "output_type": "execute_result"
    }
   ],
   "source": [
    "class Value:\n",
    "    def __init__(self, data, _childern=(), _op=''):\n",
    "        self.data = data\n",
    "        self._prev = set(_childern)\n",
    "        self._op = _op\n",
    "\n",
    "    def __repr__(self):\n",
    "        return f\"Value(data = {self.data})\"\n",
    "    \n",
    "    def __add__ (self, other):\n",
    "        out = Value(self.data + other.data, (self, other), '+')\n",
    "        return out\n",
    "    \n",
    "    def __mul__ (self, other):\n",
    "        out = Value(self.data * other.data, (self, other), '*')\n",
    "        return out\n",
    "    \n",
    "a = Value(2.0)\n",
    "b = Value(-3.0)\n",
    "c = Value(10.0)\n",
    "d = a * b + c\n",
    "d"
   ]
  },
  {
   "cell_type": "code",
   "execution_count": 9,
   "id": "eca824bb",
   "metadata": {},
   "outputs": [
    {
     "data": {
      "text/plain": [
       "{Value(data = -6.0), Value(data = 10.0)}"
      ]
     },
     "execution_count": 9,
     "metadata": {},
     "output_type": "execute_result"
    }
   ],
   "source": [
    "d._prev"
   ]
  },
  {
   "cell_type": "code",
   "execution_count": 10,
   "id": "c68279ec",
   "metadata": {},
   "outputs": [
    {
     "data": {
      "text/plain": [
       "'+'"
      ]
     },
     "execution_count": 10,
     "metadata": {},
     "output_type": "execute_result"
    }
   ],
   "source": [
    "d._op"
   ]
  },
  {
   "cell_type": "code",
   "execution_count": 11,
   "id": "24c7ce46",
   "metadata": {},
   "outputs": [],
   "source": [
    "from graphviz import Digraph \n",
    "def trace(root):\n",
    "    # builds a set of all nodes and edges in a graph\n",
    "    nodes, edges = set(), set()\n",
    "    def build(v):\n",
    "        if v not in nodes:\n",
    "            nodes.add(v)\n",
    "            for child in v._prev:\n",
    "                edges.add((child, v))\n",
    "                build(child)\n",
    "    build(root)\n",
    "    return nodes, edges\n",
    "\n",
    "def draw_dot(root):\n",
    "    dot = Digraph(format=\"svg\", graph_attr={'rankdir': 'LR'}) # LR = left to right\n",
    "\n",
    "    nodes, edges = trace(root)\n",
    "    for n in nodes:\n",
    "        uid = str(id(n))\n",
    "        # for any value in the graph, create a rectangular (record) node for it\n",
    "        dot.node(name = uid, label = \"{data %.4f}\" % (n.data, ), shape='record')\n",
    "        if n._op:\n",
    "            # if this value is a result of some opertation, create an op npde for it\n",
    "            dot.node(name = uid + n._op, label = n._op)\n",
    "            # and connect this node to it\n",
    "            dot.edge(uid + n._op, uid)\n",
    "\n",
    "    for n1, n2 in edges:\n",
    "        dot.edge(str(id(n1)), str(id(n2)) +n2._op)\n",
    "    \n",
    "    return dot"
   ]
  },
  {
   "cell_type": "code",
   "execution_count": 12,
   "id": "92c2103c",
   "metadata": {},
   "outputs": [
    {
     "data": {
      "image/svg+xml": [
       "<?xml version=\"1.0\" encoding=\"UTF-8\" standalone=\"no\"?>\n",
       "<!DOCTYPE svg PUBLIC \"-//W3C//DTD SVG 1.1//EN\"\n",
       " \"http://www.w3.org/Graphics/SVG/1.1/DTD/svg11.dtd\">\n",
       "<!-- Generated by graphviz version 12.2.1 (20241206.2353)\n",
       " -->\n",
       "<!-- Pages: 1 -->\n",
       "<svg width=\"511pt\" height=\"127pt\"\n",
       " viewBox=\"0.00 0.00 510.50 127.00\" xmlns=\"http://www.w3.org/2000/svg\" xmlns:xlink=\"http://www.w3.org/1999/xlink\">\n",
       "<g id=\"graph0\" class=\"graph\" transform=\"scale(1 1) rotate(0) translate(4 123)\">\n",
       "<polygon fill=\"white\" stroke=\"none\" points=\"-4,4 -4,-123 506.5,-123 506.5,4 -4,4\"/>\n",
       "<!-- 2653274061936 -->\n",
       "<g id=\"node1\" class=\"node\">\n",
       "<title>2653274061936</title>\n",
       "<polygon fill=\"none\" stroke=\"black\" points=\"211.38,-27.5 211.38,-63.5 295.62,-63.5 295.62,-27.5 211.38,-27.5\"/>\n",
       "<text text-anchor=\"middle\" x=\"253.5\" y=\"-40.7\" font-family=\"Times New Roman,serif\" font-size=\"14.00\">data &#45;6.0000</text>\n",
       "</g>\n",
       "<!-- 2653848432368+ -->\n",
       "<g id=\"node5\" class=\"node\">\n",
       "<title>2653848432368+</title>\n",
       "<ellipse fill=\"none\" stroke=\"black\" cx=\"359.75\" cy=\"-72.5\" rx=\"27\" ry=\"18\"/>\n",
       "<text text-anchor=\"middle\" x=\"359.75\" y=\"-67.45\" font-family=\"Times New Roman,serif\" font-size=\"14.00\">+</text>\n",
       "</g>\n",
       "<!-- 2653274061936&#45;&gt;2653848432368+ -->\n",
       "<g id=\"edge6\" class=\"edge\">\n",
       "<title>2653274061936&#45;&gt;2653848432368+</title>\n",
       "<path fill=\"none\" stroke=\"black\" d=\"M296,-56.25C305,-58.58 314.45,-61.03 323.19,-63.29\"/>\n",
       "<polygon fill=\"black\" stroke=\"black\" points=\"322.18,-66.64 332.73,-65.76 323.93,-59.87 322.18,-66.64\"/>\n",
       "</g>\n",
       "<!-- 2653274061936* -->\n",
       "<g id=\"node2\" class=\"node\">\n",
       "<title>2653274061936*</title>\n",
       "<ellipse fill=\"none\" stroke=\"black\" cx=\"147.25\" cy=\"-45.5\" rx=\"27\" ry=\"18\"/>\n",
       "<text text-anchor=\"middle\" x=\"147.25\" y=\"-40.45\" font-family=\"Times New Roman,serif\" font-size=\"14.00\">*</text>\n",
       "</g>\n",
       "<!-- 2653274061936*&#45;&gt;2653274061936 -->\n",
       "<g id=\"edge1\" class=\"edge\">\n",
       "<title>2653274061936*&#45;&gt;2653274061936</title>\n",
       "<path fill=\"none\" stroke=\"black\" d=\"M174.56,-45.5C182.27,-45.5 191,-45.5 199.75,-45.5\"/>\n",
       "<polygon fill=\"black\" stroke=\"black\" points=\"199.67,-49 209.67,-45.5 199.67,-42 199.67,-49\"/>\n",
       "</g>\n",
       "<!-- 2653274762368 -->\n",
       "<g id=\"node3\" class=\"node\">\n",
       "<title>2653274762368</title>\n",
       "<polygon fill=\"none\" stroke=\"black\" points=\"0,-55.5 0,-91.5 84.25,-91.5 84.25,-55.5 0,-55.5\"/>\n",
       "<text text-anchor=\"middle\" x=\"42.12\" y=\"-68.7\" font-family=\"Times New Roman,serif\" font-size=\"14.00\">data &#45;3.0000</text>\n",
       "</g>\n",
       "<!-- 2653274762368&#45;&gt;2653274061936* -->\n",
       "<g id=\"edge4\" class=\"edge\">\n",
       "<title>2653274762368&#45;&gt;2653274061936*</title>\n",
       "<path fill=\"none\" stroke=\"black\" d=\"M84.48,-62.27C93.18,-59.91 102.29,-57.43 110.76,-55.14\"/>\n",
       "<polygon fill=\"black\" stroke=\"black\" points=\"111.62,-58.53 120.35,-52.53 109.78,-51.77 111.62,-58.53\"/>\n",
       "</g>\n",
       "<!-- 2653848432368 -->\n",
       "<g id=\"node4\" class=\"node\">\n",
       "<title>2653848432368</title>\n",
       "<polygon fill=\"none\" stroke=\"black\" points=\"422.75,-54.5 422.75,-90.5 502.5,-90.5 502.5,-54.5 422.75,-54.5\"/>\n",
       "<text text-anchor=\"middle\" x=\"462.62\" y=\"-67.7\" font-family=\"Times New Roman,serif\" font-size=\"14.00\">data 4.0000</text>\n",
       "</g>\n",
       "<!-- 2653848432368+&#45;&gt;2653848432368 -->\n",
       "<g id=\"edge2\" class=\"edge\">\n",
       "<title>2653848432368+&#45;&gt;2653848432368</title>\n",
       "<path fill=\"none\" stroke=\"black\" d=\"M386.99,-72.5C394.46,-72.5 402.85,-72.5 411.24,-72.5\"/>\n",
       "<polygon fill=\"black\" stroke=\"black\" points=\"411.08,-76 421.08,-72.5 411.08,-69 411.08,-76\"/>\n",
       "</g>\n",
       "<!-- 2653848174992 -->\n",
       "<g id=\"node6\" class=\"node\">\n",
       "<title>2653848174992</title>\n",
       "<polygon fill=\"none\" stroke=\"black\" points=\"2.25,-0.5 2.25,-36.5 82,-36.5 82,-0.5 2.25,-0.5\"/>\n",
       "<text text-anchor=\"middle\" x=\"42.12\" y=\"-13.7\" font-family=\"Times New Roman,serif\" font-size=\"14.00\">data 2.0000</text>\n",
       "</g>\n",
       "<!-- 2653848174992&#45;&gt;2653274061936* -->\n",
       "<g id=\"edge5\" class=\"edge\">\n",
       "<title>2653848174992&#45;&gt;2653274061936*</title>\n",
       "<path fill=\"none\" stroke=\"black\" d=\"M82.41,-28.78C91.69,-31.22 101.54,-33.79 110.65,-36.18\"/>\n",
       "<polygon fill=\"black\" stroke=\"black\" points=\"109.68,-39.54 120.24,-38.69 111.45,-32.77 109.68,-39.54\"/>\n",
       "</g>\n",
       "<!-- 2653274755024 -->\n",
       "<g id=\"node7\" class=\"node\">\n",
       "<title>2653274755024</title>\n",
       "<polygon fill=\"none\" stroke=\"black\" points=\"210.25,-82.5 210.25,-118.5 296.75,-118.5 296.75,-82.5 210.25,-82.5\"/>\n",
       "<text text-anchor=\"middle\" x=\"253.5\" y=\"-95.7\" font-family=\"Times New Roman,serif\" font-size=\"14.00\">data 10.0000</text>\n",
       "</g>\n",
       "<!-- 2653274755024&#45;&gt;2653848432368+ -->\n",
       "<g id=\"edge3\" class=\"edge\">\n",
       "<title>2653274755024&#45;&gt;2653848432368+</title>\n",
       "<path fill=\"none\" stroke=\"black\" d=\"M297.2,-89.03C305.86,-86.7 314.88,-84.28 323.26,-82.03\"/>\n",
       "<polygon fill=\"black\" stroke=\"black\" points=\"323.98,-85.46 332.73,-79.49 322.17,-78.7 323.98,-85.46\"/>\n",
       "</g>\n",
       "</g>\n",
       "</svg>\n"
      ],
      "text/plain": [
       "<graphviz.graphs.Digraph at 0x269e5b17f10>"
      ]
     },
     "execution_count": 12,
     "metadata": {},
     "output_type": "execute_result"
    }
   ],
   "source": [
    "draw_dot(d)"
   ]
  },
  {
   "cell_type": "code",
   "execution_count": null,
   "id": "470da9e5",
   "metadata": {},
   "outputs": [],
   "source": []
  }
 ],
 "metadata": {
  "kernelspec": {
   "display_name": "py310",
   "language": "python",
   "name": "python3"
  },
  "language_info": {
   "codemirror_mode": {
    "name": "ipython",
    "version": 3
   },
   "file_extension": ".py",
   "mimetype": "text/x-python",
   "name": "python",
   "nbconvert_exporter": "python",
   "pygments_lexer": "ipython3",
   "version": "3.10.16"
  }
 },
 "nbformat": 4,
 "nbformat_minor": 5
}
