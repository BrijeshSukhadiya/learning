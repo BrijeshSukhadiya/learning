{
 "cells": [
  {
   "cell_type": "code",
   "execution_count": 19,
   "id": "5fb944d6",
   "metadata": {},
   "outputs": [],
   "source": [
    "import math\n",
    "import numpy as np\n",
    "import matplotlib.pyplot as plt\n",
    "%matplotlib inline"
   ]
  },
  {
   "cell_type": "code",
   "execution_count": 20,
   "id": "f3ccc341",
   "metadata": {},
   "outputs": [],
   "source": [
    "def f(x):\n",
    "    return 3*x**2 - 4*x + 5"
   ]
  },
  {
   "cell_type": "code",
   "execution_count": 21,
   "id": "9aac2362",
   "metadata": {},
   "outputs": [
    {
     "data": {
      "text/plain": [
       "20.0"
      ]
     },
     "execution_count": 21,
     "metadata": {},
     "output_type": "execute_result"
    }
   ],
   "source": [
    "f(3.0)"
   ]
  },
  {
   "cell_type": "code",
   "execution_count": 22,
   "id": "5b35286f",
   "metadata": {},
   "outputs": [
    {
     "data": {
      "text/plain": [
       "[<matplotlib.lines.Line2D at 0x269e5d864d0>]"
      ]
     },
     "execution_count": 22,
     "metadata": {},
     "output_type": "execute_result"
    },
    {
     "data": {
      "image/png": "[encoded data removed]",
      "text/plain": [
       "<Figure size 432x288 with 1 Axes>"
      ]
     },
     "metadata": {
      "needs_background": "light"
     },
     "output_type": "display_data"
    }
   ],
   "source": [
    "xs= np.arange(-5, 5, 0.25)\n",
    "ys= f(xs)\n",
    "plt.plot(xs, ys)"
   ]
  },
  {
   "cell_type": "code",
   "execution_count": 23,
   "id": "8f755149",
   "metadata": {},
   "outputs": [
    {
     "data": {
      "text/plain": [
       "2.999378523327323e-06"
      ]
     },
     "execution_count": 23,
     "metadata": {},
     "output_type": "execute_result"
    }
   ],
   "source": [
    "h = 0.000001\n",
    "x = 2/3\n",
    "(f(x + h) - f(x)) / h"
   ]
  },
  {
   "cell_type": "code",
   "execution_count": 24,
   "id": "7f96c887",
   "metadata": {},
   "outputs": [
    {
     "name": "stdout",
     "output_type": "stream",
     "text": [
      "4.0\n"
     ]
    }
   ],
   "source": [
    "# lets get more complex\n",
    "a = 2.0\n",
    "b = -3.0\n",
    "c = 10.0\n",
    "d = a*b + c \n",
    "print(d)"
   ]
  },
  {
   "cell_type": "code",
   "execution_count": 25,
   "id": "981988cb",
   "metadata": {},
   "outputs": [
    {
     "name": "stdout",
     "output_type": "stream",
     "text": [
      "d1 4.0\n",
      "d2 4.0001\n",
      "slope 0.9999999999976694\n"
     ]
    }
   ],
   "source": [
    "h = 0.0001\n",
    "\n",
    "#inputs\n",
    "a = 2.0\n",
    "b = -3.0\n",
    "c = 10.0\n",
    "\n",
    "d1 = a*b + c \n",
    "c += h\n",
    "d2 = a*b + c\n",
    "\n",
    "print('d1', d1)\n",
    "print(\"d2\", d2)\n",
    "print(\"slope\", (d2 - d1)/h)"
   ]
  },
  {
   "cell_type": "code",
   "execution_count": 70,
   "id": "43eb531c",
   "metadata": {},
   "outputs": [
    {
     "data": {
      "text/plain": [
       "Value(data = -8.0)"
      ]
     },
     "execution_count": 70,
     "metadata": {},
     "output_type": "execute_result"
    }
   ],
   "source": [
    "class Value:\n",
    "    def __init__(self, data, _childern=(), _op='', label=''):\n",
    "        self.data = data\n",
    "        self.grad = 0.0\n",
    "        self._prev = set(_childern)\n",
    "        self._op = _op\n",
    "        self.label = label\n",
    "\n",
    "    def __repr__(self):\n",
    "        return f\"Value(data = {self.data})\"\n",
    "    \n",
    "    def __add__ (self, other):\n",
    "        out = Value(self.data + other.data, (self, other), '+')\n",
    "        return out\n",
    "    \n",
    "    def __mul__ (self, other):\n",
    "        out = Value(self.data * other.data, (self, other), '*')\n",
    "        return out\n",
    "    \n",
    "    def tanh(self):\n",
    "        x = self.data\n",
    "        t = (math.exp(2*x) - 1)/(math.exp(2*x) + 1)\n",
    "        out = Value(t, (self,), 'tanh')\n",
    "        return out\n",
    "    \n",
    "a = Value(2.0, label='a')\n",
    "b = Value(-3.0, label=\"b\")\n",
    "c = Value(10.0, label=\"c\")\n",
    "e = a*b; e.label = \"e\"\n",
    "d = e + c; d.label= \"d\"\n",
    "f = Value(-2.0, label=\"f\")\n",
    "L = d * f; L.label = \"L\"\n",
    "L"
   ]
  },
  {
   "cell_type": "code",
   "execution_count": 45,
   "id": "eca824bb",
   "metadata": {},
   "outputs": [
    {
     "data": {
      "text/plain": [
       "{Value(data = -6.0), Value(data = 10.0)}"
      ]
     },
     "execution_count": 45,
     "metadata": {},
     "output_type": "execute_result"
    }
   ],
   "source": [
    "d._prev"
   ]
  },
  {
   "cell_type": "code",
   "execution_count": 46,
   "id": "c68279ec",
   "metadata": {},
   "outputs": [
    {
     "data": {
      "text/plain": [
       "'+'"
      ]
     },
     "execution_count": 46,
     "metadata": {},
     "output_type": "execute_result"
    }
   ],
   "source": [
    "d._op"
   ]
  },
  {
   "cell_type": "code",
   "execution_count": 53,
   "id": "24c7ce46",
   "metadata": {},
   "outputs": [],
   "source": [
    "from graphviz import Digraph \n",
    "def trace(root):\n",
    "    # builds a set of all nodes and edges in a graph\n",
    "    nodes, edges = set(), set()\n",
    "    def build(v):\n",
    "        if v not in nodes:\n",
    "            nodes.add(v)\n",
    "            for child in v._prev:\n",
    "                edges.add((child, v))\n",
    "                build(child)\n",
    "    build(root)\n",
    "    return nodes, edges\n",
    "\n",
    "def draw_dot(root):\n",
    "    dot = Digraph(format=\"svg\", graph_attr={'rankdir': 'LR'}) # LR = left to right\n",
    "\n",
    "    nodes, edges = trace(root)\n",
    "    for n in nodes:\n",
    "        uid = str(id(n))\n",
    "        # for any value in the graph, create a rectangular (record) node for it\n",
    "        dot.node(name = uid, label = \"{%s | data %.4f | grad %.4f}\" % (n.label, n.data, n.grad), shape='record')\n",
    "        if n._op:\n",
    "            # if this value is a result of some opertation, create an op npde for it\n",
    "            dot.node(name = uid + n._op, label = n._op)\n",
    "            # and connect this node to it\n",
    "            dot.edge(uid + n._op, uid)\n",
    "\n",
    "    for n1, n2 in edges:\n",
    "        dot.edge(str(id(n1)), str(id(n2)) +n2._op)\n",
    "    \n",
    "    return dot"
   ]
  },
  {
   "cell_type": "code",
   "execution_count": 67,
   "id": "92c2103c",
   "metadata": {},
   "outputs": [
    {
     "data": {
      "image/svg+xml": [
       "<?xml version=\"1.0\" encoding=\"UTF-8\" standalone=\"no\"?>\n",
       "<!DOCTYPE svg PUBLIC \"-//W3C//DTD SVG 1.1//EN\"\n",
       " \"http://www.w3.org/Graphics/SVG/1.1/DTD/svg11.dtd\">\n",
       "<!-- Generated by graphviz version 12.2.1 (20241206.2353)\n",
       " -->\n",
       "<!-- Pages: 1 -->\n",
       "<svg width=\"1151pt\" height=\"128pt\"\n",
       " viewBox=\"0.00 0.00 1151.00 128.00\" xmlns=\"http://www.w3.org/2000/svg\" xmlns:xlink=\"http://www.w3.org/1999/xlink\">\n",
       "<g id=\"graph0\" class=\"graph\" transform=\"scale(1 1) rotate(0) translate(4 124)\">\n",
       "<polygon fill=\"white\" stroke=\"none\" points=\"-4,4 -4,-124 1147,-124 1147,4 -4,4\"/>\n",
       "<!-- 2653851468896 -->\n",
       "<g id=\"node1\" class=\"node\">\n",
       "<title>2653851468896</title>\n",
       "<polygon fill=\"none\" stroke=\"black\" points=\"318.75,-83.5 318.75,-119.5 513,-119.5 513,-83.5 318.75,-83.5\"/>\n",
       "<text text-anchor=\"middle\" x=\"329.75\" y=\"-96.7\" font-family=\"Times New Roman,serif\" font-size=\"14.00\">c</text>\n",
       "<polyline fill=\"none\" stroke=\"black\" points=\"340.75,-84 340.75,-119.5\"/>\n",
       "<text text-anchor=\"middle\" x=\"384\" y=\"-96.7\" font-family=\"Times New Roman,serif\" font-size=\"14.00\">data 10.0000</text>\n",
       "<polyline fill=\"none\" stroke=\"black\" points=\"427.25,-84 427.25,-119.5\"/>\n",
       "<text text-anchor=\"middle\" x=\"470.12\" y=\"-96.7\" font-family=\"Times New Roman,serif\" font-size=\"14.00\">grad &#45;2.0000</text>\n",
       "</g>\n",
       "<!-- 2653851469616+ -->\n",
       "<g id=\"node8\" class=\"node\">\n",
       "<title>2653851469616+</title>\n",
       "<ellipse fill=\"none\" stroke=\"black\" cx=\"576\" cy=\"-73.5\" rx=\"27\" ry=\"18\"/>\n",
       "<text text-anchor=\"middle\" x=\"576\" y=\"-68.45\" font-family=\"Times New Roman,serif\" font-size=\"14.00\">+</text>\n",
       "</g>\n",
       "<!-- 2653851468896&#45;&gt;2653851469616+ -->\n",
       "<g id=\"edge9\" class=\"edge\">\n",
       "<title>2653851468896&#45;&gt;2653851469616+</title>\n",
       "<path fill=\"none\" stroke=\"black\" d=\"M513.41,-84.41C522.21,-82.85 530.7,-81.34 538.42,-79.98\"/>\n",
       "<polygon fill=\"black\" stroke=\"black\" points=\"538.77,-83.47 548,-78.28 537.55,-76.58 538.77,-83.47\"/>\n",
       "</g>\n",
       "<!-- 2653851474032 -->\n",
       "<g id=\"node2\" class=\"node\">\n",
       "<title>2653851474032</title>\n",
       "<polygon fill=\"none\" stroke=\"black\" points=\"953.25,-27.5 953.25,-63.5 1143,-63.5 1143,-27.5 953.25,-27.5\"/>\n",
       "<text text-anchor=\"middle\" x=\"965.38\" y=\"-40.7\" font-family=\"Times New Roman,serif\" font-size=\"14.00\">L</text>\n",
       "<polyline fill=\"none\" stroke=\"black\" points=\"977.5,-28 977.5,-63.5\"/>\n",
       "<text text-anchor=\"middle\" x=\"1019.62\" y=\"-40.7\" font-family=\"Times New Roman,serif\" font-size=\"14.00\">data &#45;8.0000</text>\n",
       "<polyline fill=\"none\" stroke=\"black\" points=\"1061.75,-28 1061.75,-63.5\"/>\n",
       "<text text-anchor=\"middle\" x=\"1102.38\" y=\"-40.7\" font-family=\"Times New Roman,serif\" font-size=\"14.00\">grad 1.0000</text>\n",
       "</g>\n",
       "<!-- 2653851474032* -->\n",
       "<g id=\"node3\" class=\"node\">\n",
       "<title>2653851474032*</title>\n",
       "<ellipse fill=\"none\" stroke=\"black\" cx=\"890.25\" cy=\"-45.5\" rx=\"27\" ry=\"18\"/>\n",
       "<text text-anchor=\"middle\" x=\"890.25\" y=\"-40.45\" font-family=\"Times New Roman,serif\" font-size=\"14.00\">*</text>\n",
       "</g>\n",
       "<!-- 2653851474032*&#45;&gt;2653851474032 -->\n",
       "<g id=\"edge1\" class=\"edge\">\n",
       "<title>2653851474032*&#45;&gt;2653851474032</title>\n",
       "<path fill=\"none\" stroke=\"black\" d=\"M917.69,-45.5C924.84,-45.5 933.03,-45.5 941.74,-45.5\"/>\n",
       "<polygon fill=\"black\" stroke=\"black\" points=\"941.51,-49 951.51,-45.5 941.51,-42 941.51,-49\"/>\n",
       "</g>\n",
       "<!-- 2653851468944 -->\n",
       "<g id=\"node4\" class=\"node\">\n",
       "<title>2653851468944</title>\n",
       "<polygon fill=\"none\" stroke=\"black\" points=\"319.88,-28.5 319.88,-64.5 511.88,-64.5 511.88,-28.5 319.88,-28.5\"/>\n",
       "<text text-anchor=\"middle\" x=\"330.88\" y=\"-41.7\" font-family=\"Times New Roman,serif\" font-size=\"14.00\">e</text>\n",
       "<polyline fill=\"none\" stroke=\"black\" points=\"341.88,-29 341.88,-64.5\"/>\n",
       "<text text-anchor=\"middle\" x=\"384\" y=\"-41.7\" font-family=\"Times New Roman,serif\" font-size=\"14.00\">data &#45;6.0000</text>\n",
       "<polyline fill=\"none\" stroke=\"black\" points=\"426.12,-29 426.12,-64.5\"/>\n",
       "<text text-anchor=\"middle\" x=\"469\" y=\"-41.7\" font-family=\"Times New Roman,serif\" font-size=\"14.00\">grad &#45;2.0000</text>\n",
       "</g>\n",
       "<!-- 2653851468944&#45;&gt;2653851469616+ -->\n",
       "<g id=\"edge5\" class=\"edge\">\n",
       "<title>2653851468944&#45;&gt;2653851469616+</title>\n",
       "<path fill=\"none\" stroke=\"black\" d=\"M512.05,-62.75C521.28,-64.33 530.2,-65.85 538.29,-67.23\"/>\n",
       "<polygon fill=\"black\" stroke=\"black\" points=\"537.53,-70.65 547.98,-68.89 538.71,-63.75 537.53,-70.65\"/>\n",
       "</g>\n",
       "<!-- 2653851468944* -->\n",
       "<g id=\"node5\" class=\"node\">\n",
       "<title>2653851468944*</title>\n",
       "<ellipse fill=\"none\" stroke=\"black\" cx=\"255.75\" cy=\"-46.5\" rx=\"27\" ry=\"18\"/>\n",
       "<text text-anchor=\"middle\" x=\"255.75\" y=\"-41.45\" font-family=\"Times New Roman,serif\" font-size=\"14.00\">*</text>\n",
       "</g>\n",
       "<!-- 2653851468944*&#45;&gt;2653851468944 -->\n",
       "<g id=\"edge2\" class=\"edge\">\n",
       "<title>2653851468944*&#45;&gt;2653851468944</title>\n",
       "<path fill=\"none\" stroke=\"black\" d=\"M283.22,-46.5C290.59,-46.5 299.09,-46.5 308.13,-46.5\"/>\n",
       "<polygon fill=\"black\" stroke=\"black\" points=\"307.89,-50 317.89,-46.5 307.89,-43 307.89,-50\"/>\n",
       "</g>\n",
       "<!-- 2653851471632 -->\n",
       "<g id=\"node6\" class=\"node\">\n",
       "<title>2653851471632</title>\n",
       "<polygon fill=\"none\" stroke=\"black\" points=\"0,-56.5 0,-92.5 192.75,-92.5 192.75,-56.5 0,-56.5\"/>\n",
       "<text text-anchor=\"middle\" x=\"11.38\" y=\"-69.7\" font-family=\"Times New Roman,serif\" font-size=\"14.00\">b</text>\n",
       "<polyline fill=\"none\" stroke=\"black\" points=\"22.75,-57 22.75,-92.5\"/>\n",
       "<text text-anchor=\"middle\" x=\"64.88\" y=\"-69.7\" font-family=\"Times New Roman,serif\" font-size=\"14.00\">data &#45;3.0000</text>\n",
       "<polyline fill=\"none\" stroke=\"black\" points=\"107,-57 107,-92.5\"/>\n",
       "<text text-anchor=\"middle\" x=\"149.88\" y=\"-69.7\" font-family=\"Times New Roman,serif\" font-size=\"14.00\">grad &#45;4.0000</text>\n",
       "</g>\n",
       "<!-- 2653851471632&#45;&gt;2653851468944* -->\n",
       "<g id=\"edge4\" class=\"edge\">\n",
       "<title>2653851471632&#45;&gt;2653851468944*</title>\n",
       "<path fill=\"none\" stroke=\"black\" d=\"M193,-57.49C201.81,-55.92 210.32,-54.41 218.06,-53.03\"/>\n",
       "<polygon fill=\"black\" stroke=\"black\" points=\"218.43,-56.52 227.66,-51.32 217.21,-49.62 218.43,-56.52\"/>\n",
       "</g>\n",
       "<!-- 2653851469616 -->\n",
       "<g id=\"node7\" class=\"node\">\n",
       "<title>2653851469616</title>\n",
       "<polygon fill=\"none\" stroke=\"black\" points=\"639,-55.5 639,-91.5 827.25,-91.5 827.25,-55.5 639,-55.5\"/>\n",
       "<text text-anchor=\"middle\" x=\"650.38\" y=\"-68.7\" font-family=\"Times New Roman,serif\" font-size=\"14.00\">d</text>\n",
       "<polyline fill=\"none\" stroke=\"black\" points=\"661.75,-56 661.75,-91.5\"/>\n",
       "<text text-anchor=\"middle\" x=\"701.62\" y=\"-68.7\" font-family=\"Times New Roman,serif\" font-size=\"14.00\">data 4.0000</text>\n",
       "<polyline fill=\"none\" stroke=\"black\" points=\"741.5,-56 741.5,-91.5\"/>\n",
       "<text text-anchor=\"middle\" x=\"784.38\" y=\"-68.7\" font-family=\"Times New Roman,serif\" font-size=\"14.00\">grad &#45;2.0000</text>\n",
       "</g>\n",
       "<!-- 2653851469616&#45;&gt;2653851474032* -->\n",
       "<g id=\"edge6\" class=\"edge\">\n",
       "<title>2653851469616&#45;&gt;2653851474032*</title>\n",
       "<path fill=\"none\" stroke=\"black\" d=\"M827.49,-56.65C836.36,-55.05 844.93,-53.5 852.73,-52.09\"/>\n",
       "<polygon fill=\"black\" stroke=\"black\" points=\"853.2,-55.56 862.42,-50.34 851.95,-48.68 853.2,-55.56\"/>\n",
       "</g>\n",
       "<!-- 2653851469616+&#45;&gt;2653851469616 -->\n",
       "<g id=\"edge3\" class=\"edge\">\n",
       "<title>2653851469616+&#45;&gt;2653851469616</title>\n",
       "<path fill=\"none\" stroke=\"black\" d=\"M603.31,-73.5C610.49,-73.5 618.72,-73.5 627.47,-73.5\"/>\n",
       "<polygon fill=\"black\" stroke=\"black\" points=\"627.29,-77 637.29,-73.5 627.29,-70 627.29,-77\"/>\n",
       "</g>\n",
       "<!-- 2653851472352 -->\n",
       "<g id=\"node9\" class=\"node\">\n",
       "<title>2653851472352</title>\n",
       "<polygon fill=\"none\" stroke=\"black\" points=\"640.12,-0.5 640.12,-36.5 826.12,-36.5 826.12,-0.5 640.12,-0.5\"/>\n",
       "<text text-anchor=\"middle\" x=\"650.38\" y=\"-13.7\" font-family=\"Times New Roman,serif\" font-size=\"14.00\">f</text>\n",
       "<polyline fill=\"none\" stroke=\"black\" points=\"660.62,-1 660.62,-36.5\"/>\n",
       "<text text-anchor=\"middle\" x=\"702.75\" y=\"-13.7\" font-family=\"Times New Roman,serif\" font-size=\"14.00\">data &#45;2.0000</text>\n",
       "<polyline fill=\"none\" stroke=\"black\" points=\"744.88,-1 744.88,-36.5\"/>\n",
       "<text text-anchor=\"middle\" x=\"785.5\" y=\"-13.7\" font-family=\"Times New Roman,serif\" font-size=\"14.00\">grad 4.0000</text>\n",
       "</g>\n",
       "<!-- 2653851472352&#45;&gt;2653851474032* -->\n",
       "<g id=\"edge7\" class=\"edge\">\n",
       "<title>2653851472352&#45;&gt;2653851474032*</title>\n",
       "<path fill=\"none\" stroke=\"black\" d=\"M826.6,-34.6C835.76,-36.19 844.62,-37.73 852.67,-39.13\"/>\n",
       "<polygon fill=\"black\" stroke=\"black\" points=\"851.85,-42.54 862.3,-40.81 853.05,-35.65 851.85,-42.54\"/>\n",
       "</g>\n",
       "<!-- 2653851471344 -->\n",
       "<g id=\"node10\" class=\"node\">\n",
       "<title>2653851471344</title>\n",
       "<polygon fill=\"none\" stroke=\"black\" points=\"4.88,-1.5 4.88,-37.5 187.88,-37.5 187.88,-1.5 4.88,-1.5\"/>\n",
       "<text text-anchor=\"middle\" x=\"15.88\" y=\"-14.7\" font-family=\"Times New Roman,serif\" font-size=\"14.00\">a</text>\n",
       "<polyline fill=\"none\" stroke=\"black\" points=\"26.88,-2 26.88,-37.5\"/>\n",
       "<text text-anchor=\"middle\" x=\"66.75\" y=\"-14.7\" font-family=\"Times New Roman,serif\" font-size=\"14.00\">data 2.0000</text>\n",
       "<polyline fill=\"none\" stroke=\"black\" points=\"106.62,-2 106.62,-37.5\"/>\n",
       "<text text-anchor=\"middle\" x=\"147.25\" y=\"-14.7\" font-family=\"Times New Roman,serif\" font-size=\"14.00\">grad 6.0000</text>\n",
       "</g>\n",
       "<!-- 2653851471344&#45;&gt;2653851468944* -->\n",
       "<g id=\"edge8\" class=\"edge\">\n",
       "<title>2653851471344&#45;&gt;2653851468944*</title>\n",
       "<path fill=\"none\" stroke=\"black\" d=\"M188.01,-35.05C198.46,-36.84 208.62,-38.59 217.74,-40.15\"/>\n",
       "<polygon fill=\"black\" stroke=\"black\" points=\"217.11,-43.59 227.56,-41.84 218.3,-36.69 217.11,-43.59\"/>\n",
       "</g>\n",
       "</g>\n",
       "</svg>\n"
      ],
      "text/plain": [
       "<graphviz.graphs.Digraph at 0x269e5d86bc0>"
      ]
     },
     "execution_count": 67,
     "metadata": {},
     "output_type": "execute_result"
    }
   ],
   "source": [
    "draw_dot(L)"
   ]
  },
  {
   "cell_type": "code",
   "execution_count": 66,
   "id": "4f83772d",
   "metadata": {},
   "outputs": [],
   "source": [
    "L.grad = 1.0\n",
    "f.grad = 4.0\n",
    "d.grad = -2\n",
    "c.grad = -2\n",
    "e.grad = -2\n",
    "a.grad = -2.0 * -3.0\n",
    "b.grad = -2.0 * 2.0"
   ]
  },
  {
   "cell_type": "code",
   "execution_count": null,
   "id": "470da9e5",
   "metadata": {},
   "outputs": [
    {
     "name": "stdout",
     "output_type": "stream",
     "text": [
      "1.000000000000334\n"
     ]
    }
   ],
   "source": [
    "def lol():\n",
    "\n",
    "    h = 0.001\n",
    "\n",
    "    a = Value(2.0, label='a')\n",
    "    b = Value(-3.0, label=\"b\")\n",
    "    c = Value(10.0, label=\"c\")\n",
    "    e = a*b; e.label = \"e\"\n",
    "    d = e + c; d.label= \"d\"\n",
    "    f = Value(-2.0, label=\"f\")\n",
    "    L = d * f; L.label = \"L\"\n",
    "    L1 = L.data\n",
    "\n",
    "    a = Value(2.0, label='a')\n",
    "    b = Value(-3.0, label=\"b\")\n",
    "    c = Value(10.0, label=\"c\")\n",
    "    e = a*b; e.label = \"e\"\n",
    "    d = e + c; d.label= \"d\"\n",
    "    f = Value(-2.0, label=\"f\")\n",
    "    L = d * f; L.label = \"L\"\n",
    "    L2 = L.data + h\n",
    "\n",
    "    print((L2 - L1)/h)\n",
    "\n",
    "lol()\n",
    "\n",
    "# Mannual Back propagation "
   ]
  },
  {
   "cell_type": "code",
   "execution_count": 68,
   "id": "f947f55c",
   "metadata": {},
   "outputs": [
    {
     "data": {
      "image/png": "[encoded data removed]",
      "text/plain": [
       "<Figure size 432x288 with 1 Axes>"
      ]
     },
     "metadata": {
      "needs_background": "light"
     },
     "output_type": "display_data"
    }
   ],
   "source": [
    "plt.plot(np.arange(-5,5,0.2), np.tanh(np.arange(-5,5,0.2)));plt.grid()"
   ]
  },
  {
   "cell_type": "code",
   "execution_count": 71,
   "id": "6e000820",
   "metadata": {},
   "outputs": [
    {
     "data": {
      "image/svg+xml": [
       "<?xml version=\"1.0\" encoding=\"UTF-8\" standalone=\"no\"?>\n",
       "<!DOCTYPE svg PUBLIC \"-//W3C//DTD SVG 1.1//EN\"\n",
       " \"http://www.w3.org/Graphics/SVG/1.1/DTD/svg11.dtd\">\n",
       "<!-- Generated by graphviz version 12.2.1 (20241206.2353)\n",
       " -->\n",
       "<!-- Pages: 1 -->\n",
       "<svg width=\"1524pt\" height=\"210pt\"\n",
       " viewBox=\"0.00 0.00 1523.75 210.00\" xmlns=\"http://www.w3.org/2000/svg\" xmlns:xlink=\"http://www.w3.org/1999/xlink\">\n",
       "<g id=\"graph0\" class=\"graph\" transform=\"scale(1 1) rotate(0) translate(4 206)\">\n",
       "<polygon fill=\"white\" stroke=\"none\" points=\"-4,4 -4,-206 1519.75,-206 1519.75,4 -4,4\"/>\n",
       "<!-- 2653863760544 -->\n",
       "<g id=\"node1\" class=\"node\">\n",
       "<title>2653863760544</title>\n",
       "<polygon fill=\"none\" stroke=\"black\" points=\"2.25,-165.5 2.25,-201.5 195.75,-201.5 195.75,-165.5 2.25,-165.5\"/>\n",
       "<text text-anchor=\"middle\" x=\"18.5\" y=\"-178.7\" font-family=\"Times New Roman,serif\" font-size=\"14.00\">w2</text>\n",
       "<polyline fill=\"none\" stroke=\"black\" points=\"34.75,-166 34.75,-201.5\"/>\n",
       "<text text-anchor=\"middle\" x=\"74.62\" y=\"-178.7\" font-family=\"Times New Roman,serif\" font-size=\"14.00\">data 1.0000</text>\n",
       "<polyline fill=\"none\" stroke=\"black\" points=\"114.5,-166 114.5,-201.5\"/>\n",
       "<text text-anchor=\"middle\" x=\"155.12\" y=\"-178.7\" font-family=\"Times New Roman,serif\" font-size=\"14.00\">grad 0.0000</text>\n",
       "</g>\n",
       "<!-- 2653863767312* -->\n",
       "<g id=\"node8\" class=\"node\">\n",
       "<title>2653863767312*</title>\n",
       "<ellipse fill=\"none\" stroke=\"black\" cx=\"261\" cy=\"-128.5\" rx=\"27\" ry=\"18\"/>\n",
       "<text text-anchor=\"middle\" x=\"261\" y=\"-123.45\" font-family=\"Times New Roman,serif\" font-size=\"14.00\">*</text>\n",
       "</g>\n",
       "<!-- 2653863760544&#45;&gt;2653863767312* -->\n",
       "<g id=\"edge11\" class=\"edge\">\n",
       "<title>2653863760544&#45;&gt;2653863767312*</title>\n",
       "<path fill=\"none\" stroke=\"black\" d=\"M172.12,-165.01C180.9,-162.35 189.7,-159.5 198,-156.5 208.09,-152.86 218.82,-148.27 228.47,-143.88\"/>\n",
       "<polygon fill=\"black\" stroke=\"black\" points=\"229.86,-147.09 237.45,-139.69 226.9,-140.75 229.86,-147.09\"/>\n",
       "</g>\n",
       "<!-- 2653863767216 -->\n",
       "<g id=\"node2\" class=\"node\">\n",
       "<title>2653863767216</title>\n",
       "<polygon fill=\"none\" stroke=\"black\" points=\"0,-55.5 0,-91.5 198,-91.5 198,-55.5 0,-55.5\"/>\n",
       "<text text-anchor=\"middle\" x=\"16.25\" y=\"-68.7\" font-family=\"Times New Roman,serif\" font-size=\"14.00\">w1</text>\n",
       "<polyline fill=\"none\" stroke=\"black\" points=\"32.5,-56 32.5,-91.5\"/>\n",
       "<text text-anchor=\"middle\" x=\"74.62\" y=\"-68.7\" font-family=\"Times New Roman,serif\" font-size=\"14.00\">data &#45;3.0000</text>\n",
       "<polyline fill=\"none\" stroke=\"black\" points=\"116.75,-56 116.75,-91.5\"/>\n",
       "<text text-anchor=\"middle\" x=\"157.38\" y=\"-68.7\" font-family=\"Times New Roman,serif\" font-size=\"14.00\">grad 0.0000</text>\n",
       "</g>\n",
       "<!-- 2653863770336* -->\n",
       "<g id=\"node4\" class=\"node\">\n",
       "<title>2653863770336*</title>\n",
       "<ellipse fill=\"none\" stroke=\"black\" cx=\"261\" cy=\"-73.5\" rx=\"27\" ry=\"18\"/>\n",
       "<text text-anchor=\"middle\" x=\"261\" y=\"-68.45\" font-family=\"Times New Roman,serif\" font-size=\"14.00\">*</text>\n",
       "</g>\n",
       "<!-- 2653863767216&#45;&gt;2653863770336* -->\n",
       "<g id=\"edge13\" class=\"edge\">\n",
       "<title>2653863767216&#45;&gt;2653863770336*</title>\n",
       "<path fill=\"none\" stroke=\"black\" d=\"M198.14,-73.5C206.61,-73.5 214.8,-73.5 222.29,-73.5\"/>\n",
       "<polygon fill=\"black\" stroke=\"black\" points=\"222.29,-77 232.29,-73.5 222.29,-70 222.29,-77\"/>\n",
       "</g>\n",
       "<!-- 2653863770336 -->\n",
       "<g id=\"node3\" class=\"node\">\n",
       "<title>2653863770336</title>\n",
       "<polygon fill=\"none\" stroke=\"black\" points=\"324,-55.5 324,-91.5 509.25,-91.5 509.25,-55.5 324,-55.5\"/>\n",
       "<text text-anchor=\"middle\" x=\"333.88\" y=\"-68.7\" font-family=\"Times New Roman,serif\" font-size=\"14.00\"> </text>\n",
       "<polyline fill=\"none\" stroke=\"black\" points=\"343.75,-56 343.75,-91.5\"/>\n",
       "<text text-anchor=\"middle\" x=\"385.88\" y=\"-68.7\" font-family=\"Times New Roman,serif\" font-size=\"14.00\">data &#45;6.0000</text>\n",
       "<polyline fill=\"none\" stroke=\"black\" points=\"428,-56 428,-91.5\"/>\n",
       "<text text-anchor=\"middle\" x=\"468.62\" y=\"-68.7\" font-family=\"Times New Roman,serif\" font-size=\"14.00\">grad 0.0000</text>\n",
       "</g>\n",
       "<!-- 2653863763328+ -->\n",
       "<g id=\"node13\" class=\"node\">\n",
       "<title>2653863763328+</title>\n",
       "<ellipse fill=\"none\" stroke=\"black\" cx=\"572.25\" cy=\"-100.5\" rx=\"27\" ry=\"18\"/>\n",
       "<text text-anchor=\"middle\" x=\"572.25\" y=\"-95.45\" font-family=\"Times New Roman,serif\" font-size=\"14.00\">+</text>\n",
       "</g>\n",
       "<!-- 2653863770336&#45;&gt;2653863763328+ -->\n",
       "<g id=\"edge8\" class=\"edge\">\n",
       "<title>2653863770336&#45;&gt;2653863763328+</title>\n",
       "<path fill=\"none\" stroke=\"black\" d=\"M509.65,-89.67C518.39,-91.21 526.86,-92.7 534.58,-94.05\"/>\n",
       "<polygon fill=\"black\" stroke=\"black\" points=\"533.7,-97.45 544.16,-95.74 534.91,-90.56 533.7,-97.45\"/>\n",
       "</g>\n",
       "<!-- 2653863770336*&#45;&gt;2653863770336 -->\n",
       "<g id=\"edge1\" class=\"edge\">\n",
       "<title>2653863770336*&#45;&gt;2653863770336</title>\n",
       "<path fill=\"none\" stroke=\"black\" d=\"M288.41,-73.5C295.45,-73.5 303.5,-73.5 312.05,-73.5\"/>\n",
       "<polygon fill=\"black\" stroke=\"black\" points=\"312.04,-77 322.04,-73.5 312.04,-70 312.04,-77\"/>\n",
       "</g>\n",
       "<!-- 2653863763712 -->\n",
       "<g id=\"node5\" class=\"node\">\n",
       "<title>2653863763712</title>\n",
       "<polygon fill=\"none\" stroke=\"black\" points=\"1025.25,-54.5 1025.25,-90.5 1209,-90.5 1209,-54.5 1025.25,-54.5\"/>\n",
       "<text text-anchor=\"middle\" x=\"1036.62\" y=\"-67.7\" font-family=\"Times New Roman,serif\" font-size=\"14.00\">n</text>\n",
       "<polyline fill=\"none\" stroke=\"black\" points=\"1048,-55 1048,-90.5\"/>\n",
       "<text text-anchor=\"middle\" x=\"1087.88\" y=\"-67.7\" font-family=\"Times New Roman,serif\" font-size=\"14.00\">data 0.7000</text>\n",
       "<polyline fill=\"none\" stroke=\"black\" points=\"1127.75,-55 1127.75,-90.5\"/>\n",
       "<text text-anchor=\"middle\" x=\"1168.38\" y=\"-67.7\" font-family=\"Times New Roman,serif\" font-size=\"14.00\">grad 0.0000</text>\n",
       "</g>\n",
       "<!-- 2653863767888tanh -->\n",
       "<g id=\"node10\" class=\"node\">\n",
       "<title>2653863767888tanh</title>\n",
       "<ellipse fill=\"none\" stroke=\"black\" cx=\"1272\" cy=\"-72.5\" rx=\"27\" ry=\"18\"/>\n",
       "<text text-anchor=\"middle\" x=\"1272\" y=\"-67.45\" font-family=\"Times New Roman,serif\" font-size=\"14.00\">tanh</text>\n",
       "</g>\n",
       "<!-- 2653863763712&#45;&gt;2653863767888tanh -->\n",
       "<g id=\"edge14\" class=\"edge\">\n",
       "<title>2653863763712&#45;&gt;2653863767888tanh</title>\n",
       "<path fill=\"none\" stroke=\"black\" d=\"M1209.26,-72.5C1217.64,-72.5 1225.77,-72.5 1233.23,-72.5\"/>\n",
       "<polygon fill=\"black\" stroke=\"black\" points=\"1233.2,-76 1243.2,-72.5 1233.2,-69 1233.2,-76\"/>\n",
       "</g>\n",
       "<!-- 2653863763712+ -->\n",
       "<g id=\"node6\" class=\"node\">\n",
       "<title>2653863763712+</title>\n",
       "<ellipse fill=\"none\" stroke=\"black\" cx=\"962.25\" cy=\"-72.5\" rx=\"27\" ry=\"18\"/>\n",
       "<text text-anchor=\"middle\" x=\"962.25\" y=\"-67.45\" font-family=\"Times New Roman,serif\" font-size=\"14.00\">+</text>\n",
       "</g>\n",
       "<!-- 2653863763712+&#45;&gt;2653863763712 -->\n",
       "<g id=\"edge2\" class=\"edge\">\n",
       "<title>2653863763712+&#45;&gt;2653863763712</title>\n",
       "<path fill=\"none\" stroke=\"black\" d=\"M989.53,-72.5C996.67,-72.5 1004.86,-72.5 1013.57,-72.5\"/>\n",
       "<polygon fill=\"black\" stroke=\"black\" points=\"1013.31,-76 1023.31,-72.5 1013.31,-69 1013.31,-76\"/>\n",
       "</g>\n",
       "<!-- 2653863767312 -->\n",
       "<g id=\"node7\" class=\"node\">\n",
       "<title>2653863767312</title>\n",
       "<polygon fill=\"none\" stroke=\"black\" points=\"326.25,-110.5 326.25,-146.5 507,-146.5 507,-110.5 326.25,-110.5\"/>\n",
       "<text text-anchor=\"middle\" x=\"336.12\" y=\"-123.7\" font-family=\"Times New Roman,serif\" font-size=\"14.00\"> </text>\n",
       "<polyline fill=\"none\" stroke=\"black\" points=\"346,-111 346,-146.5\"/>\n",
       "<text text-anchor=\"middle\" x=\"385.88\" y=\"-123.7\" font-family=\"Times New Roman,serif\" font-size=\"14.00\">data 0.0000</text>\n",
       "<polyline fill=\"none\" stroke=\"black\" points=\"425.75,-111 425.75,-146.5\"/>\n",
       "<text text-anchor=\"middle\" x=\"466.38\" y=\"-123.7\" font-family=\"Times New Roman,serif\" font-size=\"14.00\">grad 0.0000</text>\n",
       "</g>\n",
       "<!-- 2653863767312&#45;&gt;2653863763328+ -->\n",
       "<g id=\"edge12\" class=\"edge\">\n",
       "<title>2653863767312&#45;&gt;2653863763328+</title>\n",
       "<path fill=\"none\" stroke=\"black\" d=\"M507.43,-112.13C516.98,-110.39 526.26,-108.7 534.64,-107.17\"/>\n",
       "<polygon fill=\"black\" stroke=\"black\" points=\"535.14,-110.64 544.35,-105.4 533.89,-103.75 535.14,-110.64\"/>\n",
       "</g>\n",
       "<!-- 2653863767312*&#45;&gt;2653863767312 -->\n",
       "<g id=\"edge3\" class=\"edge\">\n",
       "<title>2653863767312*&#45;&gt;2653863767312</title>\n",
       "<path fill=\"none\" stroke=\"black\" d=\"M288.41,-128.5C296.12,-128.5 305.04,-128.5 314.51,-128.5\"/>\n",
       "<polygon fill=\"black\" stroke=\"black\" points=\"314.32,-132 324.32,-128.5 314.32,-125 314.32,-132\"/>\n",
       "</g>\n",
       "<!-- 2653863767888 -->\n",
       "<g id=\"node9\" class=\"node\">\n",
       "<title>2653863767888</title>\n",
       "<polygon fill=\"none\" stroke=\"black\" points=\"1335,-54.5 1335,-90.5 1515.75,-90.5 1515.75,-54.5 1335,-54.5\"/>\n",
       "<text text-anchor=\"middle\" x=\"1344.88\" y=\"-67.7\" font-family=\"Times New Roman,serif\" font-size=\"14.00\"> </text>\n",
       "<polyline fill=\"none\" stroke=\"black\" points=\"1354.75,-55 1354.75,-90.5\"/>\n",
       "<text text-anchor=\"middle\" x=\"1394.62\" y=\"-67.7\" font-family=\"Times New Roman,serif\" font-size=\"14.00\">data 0.6044</text>\n",
       "<polyline fill=\"none\" stroke=\"black\" points=\"1434.5,-55 1434.5,-90.5\"/>\n",
       "<text text-anchor=\"middle\" x=\"1475.12\" y=\"-67.7\" font-family=\"Times New Roman,serif\" font-size=\"14.00\">grad 0.0000</text>\n",
       "</g>\n",
       "<!-- 2653863767888tanh&#45;&gt;2653863767888 -->\n",
       "<g id=\"edge4\" class=\"edge\">\n",
       "<title>2653863767888tanh&#45;&gt;2653863767888</title>\n",
       "<path fill=\"none\" stroke=\"black\" d=\"M1299.37,-72.5C1306.51,-72.5 1314.7,-72.5 1323.39,-72.5\"/>\n",
       "<polygon fill=\"black\" stroke=\"black\" points=\"1323.11,-76 1333.11,-72.5 1323.11,-69 1323.11,-76\"/>\n",
       "</g>\n",
       "<!-- 2653863769952 -->\n",
       "<g id=\"node11\" class=\"node\">\n",
       "<title>2653863769952</title>\n",
       "<polygon fill=\"none\" stroke=\"black\" points=\"3.75,-0.5 3.75,-36.5 194.25,-36.5 194.25,-0.5 3.75,-0.5\"/>\n",
       "<text text-anchor=\"middle\" x=\"18.5\" y=\"-13.7\" font-family=\"Times New Roman,serif\" font-size=\"14.00\">x1</text>\n",
       "<polyline fill=\"none\" stroke=\"black\" points=\"33.25,-1 33.25,-36.5\"/>\n",
       "<text text-anchor=\"middle\" x=\"73.12\" y=\"-13.7\" font-family=\"Times New Roman,serif\" font-size=\"14.00\">data 2.0000</text>\n",
       "<polyline fill=\"none\" stroke=\"black\" points=\"113,-1 113,-36.5\"/>\n",
       "<text text-anchor=\"middle\" x=\"153.62\" y=\"-13.7\" font-family=\"Times New Roman,serif\" font-size=\"14.00\">grad 0.0000</text>\n",
       "</g>\n",
       "<!-- 2653863769952&#45;&gt;2653863770336* -->\n",
       "<g id=\"edge7\" class=\"edge\">\n",
       "<title>2653863769952&#45;&gt;2653863770336*</title>\n",
       "<path fill=\"none\" stroke=\"black\" d=\"M172.12,-36.99C180.9,-39.65 189.7,-42.5 198,-45.5 208.09,-49.14 218.82,-53.73 228.47,-58.12\"/>\n",
       "<polygon fill=\"black\" stroke=\"black\" points=\"226.9,-61.25 237.45,-62.31 229.86,-54.91 226.9,-61.25\"/>\n",
       "</g>\n",
       "<!-- 2653863763328 -->\n",
       "<g id=\"node12\" class=\"node\">\n",
       "<title>2653863763328</title>\n",
       "<polygon fill=\"none\" stroke=\"black\" points=\"635.25,-82.5 635.25,-118.5 899.25,-118.5 899.25,-82.5 635.25,-82.5\"/>\n",
       "<text text-anchor=\"middle\" x=\"684.5\" y=\"-95.7\" font-family=\"Times New Roman,serif\" font-size=\"14.00\">x1*w1 + x2w2</text>\n",
       "<polyline fill=\"none\" stroke=\"black\" points=\"733.75,-83 733.75,-118.5\"/>\n",
       "<text text-anchor=\"middle\" x=\"775.88\" y=\"-95.7\" font-family=\"Times New Roman,serif\" font-size=\"14.00\">data &#45;6.0000</text>\n",
       "<polyline fill=\"none\" stroke=\"black\" points=\"818,-83 818,-118.5\"/>\n",
       "<text text-anchor=\"middle\" x=\"858.62\" y=\"-95.7\" font-family=\"Times New Roman,serif\" font-size=\"14.00\">grad 0.0000</text>\n",
       "</g>\n",
       "<!-- 2653863763328&#45;&gt;2653863763712+ -->\n",
       "<g id=\"edge6\" class=\"edge\">\n",
       "<title>2653863763328&#45;&gt;2653863763712+</title>\n",
       "<path fill=\"none\" stroke=\"black\" d=\"M895.64,-82.02C905.89,-80.53 915.62,-79.12 924.3,-77.86\"/>\n",
       "<polygon fill=\"black\" stroke=\"black\" points=\"924.54,-81.36 933.93,-76.46 923.53,-74.44 924.54,-81.36\"/>\n",
       "</g>\n",
       "<!-- 2653863763328+&#45;&gt;2653863763328 -->\n",
       "<g id=\"edge5\" class=\"edge\">\n",
       "<title>2653863763328+&#45;&gt;2653863763328</title>\n",
       "<path fill=\"none\" stroke=\"black\" d=\"M599.68,-100.5C606.72,-100.5 614.84,-100.5 623.63,-100.5\"/>\n",
       "<polygon fill=\"black\" stroke=\"black\" points=\"623.58,-104 633.58,-100.5 623.58,-97 623.58,-104\"/>\n",
       "</g>\n",
       "<!-- 2653863769040 -->\n",
       "<g id=\"node14\" class=\"node\">\n",
       "<title>2653863769040</title>\n",
       "<polygon fill=\"none\" stroke=\"black\" points=\"3.75,-110.5 3.75,-146.5 194.25,-146.5 194.25,-110.5 3.75,-110.5\"/>\n",
       "<text text-anchor=\"middle\" x=\"18.5\" y=\"-123.7\" font-family=\"Times New Roman,serif\" font-size=\"14.00\">x2</text>\n",
       "<polyline fill=\"none\" stroke=\"black\" points=\"33.25,-111 33.25,-146.5\"/>\n",
       "<text text-anchor=\"middle\" x=\"73.12\" y=\"-123.7\" font-family=\"Times New Roman,serif\" font-size=\"14.00\">data 0.0000</text>\n",
       "<polyline fill=\"none\" stroke=\"black\" points=\"113,-111 113,-146.5\"/>\n",
       "<text text-anchor=\"middle\" x=\"153.62\" y=\"-123.7\" font-family=\"Times New Roman,serif\" font-size=\"14.00\">grad 0.0000</text>\n",
       "</g>\n",
       "<!-- 2653863769040&#45;&gt;2653863767312* -->\n",
       "<g id=\"edge10\" class=\"edge\">\n",
       "<title>2653863769040&#45;&gt;2653863767312*</title>\n",
       "<path fill=\"none\" stroke=\"black\" d=\"M194.46,-128.5C204.21,-128.5 213.66,-128.5 222.21,-128.5\"/>\n",
       "<polygon fill=\"black\" stroke=\"black\" points=\"222.12,-132 232.12,-128.5 222.12,-125 222.12,-132\"/>\n",
       "</g>\n",
       "<!-- 2653863767024 -->\n",
       "<g id=\"node15\" class=\"node\">\n",
       "<title>2653863767024</title>\n",
       "<polygon fill=\"none\" stroke=\"black\" points=\"675.38,-27.5 675.38,-63.5 859.12,-63.5 859.12,-27.5 675.38,-27.5\"/>\n",
       "<text text-anchor=\"middle\" x=\"686.75\" y=\"-40.7\" font-family=\"Times New Roman,serif\" font-size=\"14.00\">b</text>\n",
       "<polyline fill=\"none\" stroke=\"black\" points=\"698.12,-28 698.12,-63.5\"/>\n",
       "<text text-anchor=\"middle\" x=\"738\" y=\"-40.7\" font-family=\"Times New Roman,serif\" font-size=\"14.00\">data 6.7000</text>\n",
       "<polyline fill=\"none\" stroke=\"black\" points=\"777.88,-28 777.88,-63.5\"/>\n",
       "<text text-anchor=\"middle\" x=\"818.5\" y=\"-40.7\" font-family=\"Times New Roman,serif\" font-size=\"14.00\">grad 0.0000</text>\n",
       "</g>\n",
       "<!-- 2653863767024&#45;&gt;2653863763712+ -->\n",
       "<g id=\"edge9\" class=\"edge\">\n",
       "<title>2653863767024&#45;&gt;2653863763712+</title>\n",
       "<path fill=\"none\" stroke=\"black\" d=\"M859.38,-58.25C882.39,-61.47 905.8,-64.74 924.37,-67.34\"/>\n",
       "<polygon fill=\"black\" stroke=\"black\" points=\"923.66,-70.77 934.05,-68.69 924.63,-63.84 923.66,-70.77\"/>\n",
       "</g>\n",
       "</g>\n",
       "</svg>\n"
      ],
      "text/plain": [
       "<graphviz.graphs.Digraph at 0x269e69b5e40>"
      ]
     },
     "execution_count": 71,
     "metadata": {},
     "output_type": "execute_result"
    }
   ],
   "source": [
    "# inputs x1,x2\n",
    "x1 = Value(2.0, label=\"x1\")\n",
    "x2 = Value(0.0, label=\"x2\")\n",
    "# weights w1,w2\n",
    "w1 = Value(-3.0, label=\"w1\")\n",
    "w2 = Value(1.0, label=\"w2\")\n",
    "# bias of the neuron\n",
    "b = Value(6.7, label=\"b\")\n",
    "\n",
    "x1w1 = x1*w1; x1w1.label = \"x1*w1\"\n",
    "x2w2 = x2*w2; x2w2.label = \"x2*w2\"\n",
    "x1w1x2w2 = x1*w1 + x2*w2; x1w1x2w2.label = \"x1*w1 + x2w2\"\n",
    "n = x1w1x2w2 + b; n.label = \"n\"\n",
    "o = n.tanh()\n",
    "draw_dot(o)"
   ]
  },
  {
   "cell_type": "code",
   "execution_count": null,
   "id": "d5aecf33",
   "metadata": {},
   "outputs": [],
   "source": []
  }
 ],
 "metadata": {
  "kernelspec": {
   "display_name": "py310",
   "language": "python",
   "name": "python3"
  },
  "language_info": {
   "codemirror_mode": {
    "name": "ipython",
    "version": 3
   },
   "file_extension": ".py",
   "mimetype": "text/x-python",
   "name": "python",
   "nbconvert_exporter": "python",
   "pygments_lexer": "ipython3",
   "version": "3.10.16"
  }
 },
 "nbformat": 4,
 "nbformat_minor": 5
}
